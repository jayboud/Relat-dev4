{
 "cells": [
  {
   "cell_type": "code",
   "execution_count": 114,
   "id": "777029e5-e284-4af5-b1fa-f016e52c3671",
   "metadata": {},
   "outputs": [],
   "source": [
    "import numpy as np\n",
    "import sympy as sp\n",
    "import scipy\n",
    "sp.init_printing(use_latex='mathjax')\n",
    "\n",
    "\n",
    "r,rs,p2,a,d,theta,dx0,dx1,dx2,dx3,ds,l,dl = sp.symbols(\"r,r_s,p2,a,d,theta,dx^0,dx^1,dx^2,dx^3,ds2,l,dl\")"
   ]
  },
  {
   "cell_type": "code",
   "execution_count": 115,
   "id": "0b43974c-a744-4ae7-a012-a3a093b46e13",
   "metadata": {},
   "outputs": [],
   "source": [
    "# changements de variable et simplifications\n",
    "rs = 0\n",
    "# r = sp.sqrt(l*l-a*a)\n",
    "# dr = l/r*dl"
   ]
  },
  {
   "cell_type": "code",
   "execution_count": 116,
   "id": "49227cc6-ef9f-4e4e-ba28-ee6d49e9a035",
   "metadata": {},
   "outputs": [],
   "source": [
    "# variables intermediaires\n",
    "p2 = r*r + a*a*sp.cos(theta)**2\n",
    "d = r*r + a*a - r*rs\n",
    "\n",
    "# tenseur metrique\n",
    "g_00 = (1 - r*rs/p2)*dx0**2\n",
    "g_03 = 2*a*r*rs*sp.sin(theta)**2/p2*dx0*dx3\n",
    "g_11 = -p2/d*dx1**2\n",
    "g_22 = -p2/d*dx2**2\n",
    "g_33 = -(r*r + a*a + a*a*r*rs*sp.sin(theta)**2/p2)*sp.sin(theta)**2*dx3**2\n",
    "ds2 = g_00+g_03+g_11+g_22+g_33"
   ]
  },
  {
   "cell_type": "code",
   "execution_count": 117,
   "id": "a7fb49bf-ffee-4a8f-9b53-1ded139b994d",
   "metadata": {},
   "outputs": [
    {
     "data": {
      "text/latex": [
       "$\\displaystyle \\frac{- \\left(dx^{1}\\right)^{2} \\left(a^{2} \\cos^{2}{\\left(\\theta \\right)} + r^{2}\\right) - \\left(dx^{2}\\right)^{2} \\left(a^{2} \\cos^{2}{\\left(\\theta \\right)} + r^{2}\\right) + \\left(a^{2} + r^{2}\\right) \\left(\\left(dx^{0}\\right)^{2} - \\left(dx^{3}\\right)^{2} \\left(a^{2} + r^{2}\\right) \\sin^{2}{\\left(\\theta \\right)}\\right)}{a^{2} + r^{2}}$"
      ],
      "text/plain": [
       "     2 ⎛ 2    2       2⎞      2 ⎛ 2    2       2⎞   ⎛ 2    2⎞ ⎛   2      2 ⎛ 2\n",
       "- dx¹ ⋅⎝a ⋅cos (θ) + r ⎠ - dx² ⋅⎝a ⋅cos (θ) + r ⎠ + ⎝a  + r ⎠⋅⎝dx⁰  - dx³ ⋅⎝a \n",
       "──────────────────────────────────────────────────────────────────────────────\n",
       "                                            2    2                            \n",
       "                                           a  + r                             \n",
       "\n",
       "    2⎞    2   ⎞\n",
       " + r ⎠⋅sin (θ)⎠\n",
       "───────────────\n",
       "               \n",
       "               "
      ]
     },
     "execution_count": 117,
     "metadata": {},
     "output_type": "execute_result"
    }
   ],
   "source": [
    "sp.simplify(ds2)"
   ]
  },
  {
   "cell_type": "code",
   "execution_count": null,
   "id": "0df43a71-b9e4-4a93-a623-5c7db9e99e00",
   "metadata": {},
   "outputs": [],
   "source": []
  }
 ],
 "metadata": {
  "kernelspec": {
   "display_name": "Python 3 (ipykernel)",
   "language": "python",
   "name": "python3"
  },
  "language_info": {
   "codemirror_mode": {
    "name": "ipython",
    "version": 3
   },
   "file_extension": ".py",
   "mimetype": "text/x-python",
   "name": "python",
   "nbconvert_exporter": "python",
   "pygments_lexer": "ipython3",
   "version": "3.9.1"
  }
 },
 "nbformat": 4,
 "nbformat_minor": 5
}
